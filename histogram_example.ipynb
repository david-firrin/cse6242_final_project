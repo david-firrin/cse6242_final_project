{
 "cells": [
  {
   "cell_type": "code",
   "execution_count": 25,
   "metadata": {},
   "outputs": [],
   "source": [
    "import pandas as pd\n",
    "import matplotlib.pyplot as plt"
   ]
  },
  {
   "cell_type": "code",
   "execution_count": 26,
   "metadata": {},
   "outputs": [],
   "source": [
    "df = pd.read_pickle('01_df_no_encoding.pkl')"
   ]
  },
  {
   "cell_type": "code",
   "execution_count": 27,
   "metadata": {},
   "outputs": [
    {
     "data": {
      "text/html": [
       "<div>\n",
       "<style scoped>\n",
       "    .dataframe tbody tr th:only-of-type {\n",
       "        vertical-align: middle;\n",
       "    }\n",
       "\n",
       "    .dataframe tbody tr th {\n",
       "        vertical-align: top;\n",
       "    }\n",
       "\n",
       "    .dataframe thead th {\n",
       "        text-align: right;\n",
       "    }\n",
       "</style>\n",
       "<table border=\"1\" class=\"dataframe\">\n",
       "  <thead>\n",
       "    <tr style=\"text-align: right;\">\n",
       "      <th></th>\n",
       "      <th>price</th>\n",
       "      <th>miles_10k</th>\n",
       "      <th>car_age_years</th>\n",
       "      <th>condition</th>\n",
       "      <th>title_status</th>\n",
       "      <th>fuel</th>\n",
       "      <th>type</th>\n",
       "      <th>model</th>\n",
       "      <th>manufacturer</th>\n",
       "      <th>cylinders</th>\n",
       "      <th>drive</th>\n",
       "      <th>transmission</th>\n",
       "      <th>paint_color</th>\n",
       "      <th>long</th>\n",
       "      <th>lat</th>\n",
       "    </tr>\n",
       "  </thead>\n",
       "  <tbody>\n",
       "    <tr>\n",
       "      <th>27</th>\n",
       "      <td>33590</td>\n",
       "      <td>5.7923</td>\n",
       "      <td>7.342466</td>\n",
       "      <td>good</td>\n",
       "      <td>clean</td>\n",
       "      <td>gas</td>\n",
       "      <td>pickup</td>\n",
       "      <td>Sierra</td>\n",
       "      <td>GMC</td>\n",
       "      <td>8 cylinders</td>\n",
       "      <td>nan</td>\n",
       "      <td>other</td>\n",
       "      <td>white</td>\n",
       "      <td>-85.4800</td>\n",
       "      <td>32.590</td>\n",
       "    </tr>\n",
       "    <tr>\n",
       "      <th>28</th>\n",
       "      <td>22590</td>\n",
       "      <td>7.1229</td>\n",
       "      <td>11.345205</td>\n",
       "      <td>good</td>\n",
       "      <td>clean</td>\n",
       "      <td>gas</td>\n",
       "      <td>pickup</td>\n",
       "      <td>Silverado</td>\n",
       "      <td>Chevrolet</td>\n",
       "      <td>8 cylinders</td>\n",
       "      <td>nan</td>\n",
       "      <td>other</td>\n",
       "      <td>blue</td>\n",
       "      <td>-85.4800</td>\n",
       "      <td>32.590</td>\n",
       "    </tr>\n",
       "    <tr>\n",
       "      <th>29</th>\n",
       "      <td>39590</td>\n",
       "      <td>1.9160</td>\n",
       "      <td>1.339726</td>\n",
       "      <td>good</td>\n",
       "      <td>clean</td>\n",
       "      <td>gas</td>\n",
       "      <td>pickup</td>\n",
       "      <td>Silverado</td>\n",
       "      <td>Chevrolet</td>\n",
       "      <td>8 cylinders</td>\n",
       "      <td>nan</td>\n",
       "      <td>other</td>\n",
       "      <td>red</td>\n",
       "      <td>-85.4800</td>\n",
       "      <td>32.590</td>\n",
       "    </tr>\n",
       "    <tr>\n",
       "      <th>30</th>\n",
       "      <td>30990</td>\n",
       "      <td>4.1124</td>\n",
       "      <td>4.339726</td>\n",
       "      <td>good</td>\n",
       "      <td>clean</td>\n",
       "      <td>gas</td>\n",
       "      <td>pickup</td>\n",
       "      <td>Tundra</td>\n",
       "      <td>Toyota</td>\n",
       "      <td>8 cylinders</td>\n",
       "      <td>nan</td>\n",
       "      <td>other</td>\n",
       "      <td>red</td>\n",
       "      <td>-85.4800</td>\n",
       "      <td>32.590</td>\n",
       "    </tr>\n",
       "    <tr>\n",
       "      <th>31</th>\n",
       "      <td>15000</td>\n",
       "      <td>12.8000</td>\n",
       "      <td>8.339726</td>\n",
       "      <td>excellent</td>\n",
       "      <td>clean</td>\n",
       "      <td>gas</td>\n",
       "      <td>pickup</td>\n",
       "      <td>F-150</td>\n",
       "      <td>Ford</td>\n",
       "      <td>6 cylinders</td>\n",
       "      <td>rwd</td>\n",
       "      <td>automatic</td>\n",
       "      <td>black</td>\n",
       "      <td>-85.5189</td>\n",
       "      <td>32.592</td>\n",
       "    </tr>\n",
       "  </tbody>\n",
       "</table>\n",
       "</div>"
      ],
      "text/plain": [
       "    price  miles_10k  car_age_years  ... paint_color     long     lat\n",
       "27  33590     5.7923       7.342466  ...       white -85.4800  32.590\n",
       "28  22590     7.1229      11.345205  ...        blue -85.4800  32.590\n",
       "29  39590     1.9160       1.339726  ...         red -85.4800  32.590\n",
       "30  30990     4.1124       4.339726  ...         red -85.4800  32.590\n",
       "31  15000    12.8000       8.339726  ...       black -85.5189  32.592\n",
       "\n",
       "[5 rows x 15 columns]"
      ]
     },
     "execution_count": 27,
     "metadata": {},
     "output_type": "execute_result"
    }
   ],
   "source": [
    "df.head()"
   ]
  },
  {
   "cell_type": "code",
   "execution_count": 28,
   "metadata": {},
   "outputs": [],
   "source": [
    "def get_model_price_histogram(df: pd.DataFrame, model: str):\n",
    "\n",
    "    df_model = df[df['model'] == model]\n",
    "\n",
    "    ax = plt.gca()\n",
    "    histogram = ax.hist(df_model['price'], bins=50)\n",
    "    return histogram"
   ]
  },
  {
   "cell_type": "code",
   "execution_count": 29,
   "metadata": {},
   "outputs": [
    {
     "data": {
      "image/png": "[encoded data removed]",
      "text/plain": [
       "<Figure size 640x480 with 1 Axes>"
      ]
     },
     "metadata": {},
     "output_type": "display_data"
    }
   ],
   "source": [
    "hist = get_model_price_histogram(df, 'F-150')\n",
    "plt.show()"
   ]
  }
 ],
 "metadata": {
  "kernelspec": {
   "display_name": "cse6242_proj",
   "language": "python",
   "name": "python3"
  },
  "language_info": {
   "codemirror_mode": {
    "name": "ipython",
    "version": 3
   },
   "file_extension": ".py",
   "mimetype": "text/x-python",
   "name": "python",
   "nbconvert_exporter": "python",
   "pygments_lexer": "ipython3",
   "version": "3.11.0"
  },
  "orig_nbformat": 4
 },
 "nbformat": 4,
 "nbformat_minor": 2
}
