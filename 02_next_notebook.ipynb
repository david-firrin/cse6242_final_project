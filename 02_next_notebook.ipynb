{
 "cells": [
  {
   "cell_type": "code",
   "execution_count": 1,
   "id": "0429672c",
   "metadata": {},
   "outputs": [],
   "source": [
    "import pandas as pd\n",
    "import numpy as np\n",
    "import pickle"
   ]
  },
  {
   "cell_type": "markdown",
   "id": "d3c0cb24",
   "metadata": {},
   "source": [
    "### import df"
   ]
  },
  {
   "cell_type": "code",
   "execution_count": 2,
   "id": "1fe59639",
   "metadata": {},
   "outputs": [],
   "source": [
    "df = pd.read_pickle('pickle_files/01_df.pkl')"
   ]
  },
  {
   "cell_type": "code",
   "execution_count": 3,
   "id": "87e5ecd7",
   "metadata": {},
   "outputs": [
    {
     "name": "stdout",
     "output_type": "stream",
     "text": [
      "<class 'pandas.core.frame.DataFrame'>\n",
      "Int64Index: 325766 entries, 27 to 426879\n",
      "Data columns (total 18 columns):\n",
      " #   Column        Non-Null Count   Dtype         \n",
      "---  ------        --------------   -----         \n",
      " 0   price         325766 non-null  int64         \n",
      " 1   condition     325766 non-null  object        \n",
      " 2   cylinders     325766 non-null  object        \n",
      " 3   drive         325766 non-null  object        \n",
      " 4   fuel          325766 non-null  object        \n",
      " 5   lat           325766 non-null  float64       \n",
      " 6   long          325766 non-null  float64       \n",
      " 7   manufacturer  325766 non-null  object        \n",
      " 8   model         325766 non-null  object        \n",
      " 9   odometer      325766 non-null  float64       \n",
      " 10  paint_color   325766 non-null  object        \n",
      " 11  posting_date  325766 non-null  datetime64[ns]\n",
      " 12  region        325766 non-null  object        \n",
      " 13  state         325766 non-null  object        \n",
      " 14  title_status  325766 non-null  object        \n",
      " 15  transmission  325766 non-null  object        \n",
      " 16  type          325766 non-null  object        \n",
      " 17  year          325766 non-null  float64       \n",
      "dtypes: datetime64[ns](1), float64(4), int64(1), object(12)\n",
      "memory usage: 47.2+ MB\n"
     ]
    }
   ],
   "source": [
    "df.info()"
   ]
  },
  {
   "cell_type": "code",
   "execution_count": null,
   "id": "5246f4dc",
   "metadata": {},
   "outputs": [],
   "source": []
  }
 ],
 "metadata": {
  "kernelspec": {
   "display_name": "Python 3 (ipykernel)",
   "language": "python",
   "name": "python3"
  },
  "language_info": {
   "codemirror_mode": {
    "name": "ipython",
    "version": 3
   },
   "file_extension": ".py",
   "mimetype": "text/x-python",
   "name": "python",
   "nbconvert_exporter": "python",
   "pygments_lexer": "ipython3",
   "version": "3.9.13"
  }
 },
 "nbformat": 4,
 "nbformat_minor": 5
}
